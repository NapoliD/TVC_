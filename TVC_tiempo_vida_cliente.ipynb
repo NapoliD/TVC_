{
  "nbformat": 4,
  "nbformat_minor": 0,
  "metadata": {
    "colab": {
      "name": "TVC_tiempo_vida_cliente.ipynb",
      "provenance": [],
      "collapsed_sections": [],
      "authorship_tag": "ABX9TyM7+JCVbthyBu0SQ2Fj4thX",
      "include_colab_link": true
    },
    "kernelspec": {
      "name": "python3",
      "display_name": "Python 3"
    }
  },
  "cells": [
    {
      "cell_type": "markdown",
      "metadata": {
        "id": "view-in-github",
        "colab_type": "text"
      },
      "source": [
        "<a href=\"https://colab.research.google.com/github/NapoliD/TVC_/blob/main/TVC_tiempo_vida_cliente.ipynb\" target=\"_parent\"><img src=\"https://colab.research.google.com/assets/colab-badge.svg\" alt=\"Open In Colab\"/></a>"
      ]
    },
    {
      "cell_type": "code",
      "metadata": {
        "id": "uPg15KnXaavN"
      },
      "source": [
        "import pandas as pd\r\n",
        "import numpy as np\r\n",
        "pd.pandas.set_option('display.max_columns', None)\r\n",
        "pd.pandas.set_option('display.max_rows', None)\r\n",
        "import plotly.express as px\r\n",
        "import matplotlib.pyplot as plt"
      ],
      "execution_count": null,
      "outputs": []
    },
    {
      "cell_type": "code",
      "metadata": {
        "id": "hNTJOp5t6MyB"
      },
      "source": [
        "result = [] \r\n",
        "for dato,maximo,minimo,mediana,promedio in zip(data[\"value\"],data[\"value max\"],data[\"value min\"],data[\"value median\"],data['value mean']):\r\n",
        "    if (dato*0.20) > maximo or (dato*0.20)>mediana  : \r\n",
        "        result.append(\"1\") \r\n",
        "    elif (minimo*1.80) > dato or (dato*1.80)<mediana: \r\n",
        "        result.append(\"1\") \r\n",
        "    else: \r\n",
        "        result.append(\"0\") \r\n",
        "       \r\n",
        "data[\"value_alerta\"] = result"
      ],
      "execution_count": null,
      "outputs": []
    },
    {
      "cell_type": "code",
      "metadata": {
        "colab": {
          "base_uri": "https://localhost:8080/"
        },
        "id": "7_-vcsyRbjce",
        "outputId": "a7cf7b62-ea40-45c8-b312-f5b110686ec4"
      },
      "source": [
        "from google.colab import drive\r\n",
        "drive.mount('/content/drive/') "
      ],
      "execution_count": null,
      "outputs": [
        {
          "output_type": "stream",
          "text": [
            "Drive already mounted at /content/drive/; to attempt to forcibly remount, call drive.mount(\"/content/drive/\", force_remount=True).\n"
          ],
          "name": "stdout"
        }
      ]
    },
    {
      "cell_type": "code",
      "metadata": {
        "id": "IQWhPZDVbkrz"
      },
      "source": [
        "import os\r\n",
        "os.chdir('/content/drive/My Drive/Prisma/MarketPlace-Bancos/')"
      ],
      "execution_count": null,
      "outputs": []
    },
    {
      "cell_type": "code",
      "metadata": {
        "id": "jLIDG4LLb0K_"
      },
      "source": [
        "# Cambiar nombre del archivo\r\n",
        "data = pd.read_csv('TVC_v1_12_2_2020.csv',sep = ';',encoding='latin-1',decimal=',',thousands='.')\r\n",
        "\r\n",
        "data.head(3)"
      ],
      "execution_count": null,
      "outputs": []
    },
    {
      "cell_type": "code",
      "metadata": {
        "id": "ZBmdpcP9m4nB"
      },
      "source": [
        "data.head(3)"
      ],
      "execution_count": null,
      "outputs": []
    },
    {
      "cell_type": "code",
      "metadata": {
        "id": "cWhekZC3mlcj"
      },
      "source": [
        "cant_x_usuario=pd.DataFrame(data.groupby(['CUIT_Establecimiento_Host','Mes_Movimiento'],as_index = False, sort=True)['Sum(Monto_Movimiento_Pesos)'].sum().pivot('CUIT_Establecimiento_Host','Mes_Movimiento').fillna(0).reset_index())#.sort_values(ascending=False)\r\n",
        "cant_x_usuario"
      ],
      "execution_count": null,
      "outputs": []
    },
    {
      "cell_type": "code",
      "metadata": {
        "id": "0HUR-wt8k2Pb"
      },
      "source": [
        "  \r\n",
        "# group by \"X\" column \r\n",
        "groups = data.groupby('CUIT_Establecimiento_Host') \r\n",
        "  \r\n",
        "# extract keys from groups \r\n",
        "keys = groups.groups.keys() \r\n",
        "\r\n",
        "keys\r\n"
      ],
      "execution_count": null,
      "outputs": []
    },
    {
      "cell_type": "code",
      "metadata": {
        "id": "C05AsCbHcHLY"
      },
      "source": [
        "tabla=data.pivot_table(index='CUIT_Establecimiento_Host',columns='Mes_Movimiento',aggfunc=np.count_nonzero,fill_value=0)"
      ],
      "execution_count": null,
      "outputs": []
    },
    {
      "cell_type": "code",
      "metadata": {
        "id": "-C3KhgN4enHf"
      },
      "source": [
        ""
      ],
      "execution_count": null,
      "outputs": []
    },
    {
      "cell_type": "code",
      "metadata": {
        "id": "X195h297co58"
      },
      "source": [
        "tabla.dtypes\r\n",
        "\r\n",
        "tabla=tabla.reset_index()"
      ],
      "execution_count": null,
      "outputs": []
    },
    {
      "cell_type": "code",
      "metadata": {
        "id": "4LFNhzpNfWFT"
      },
      "source": [
        "tabla.head(5)"
      ],
      "execution_count": null,
      "outputs": []
    },
    {
      "cell_type": "code",
      "metadata": {
        "id": "bamweWb85U-K"
      },
      "source": [
        "for mes1,mes2,mes3 in map(tabla.iloc['201811'])\r\n",
        "  \r\n",
        "\r\n"
      ],
      "execution_count": null,
      "outputs": []
    },
    {
      "cell_type": "code",
      "metadata": {
        "id": "kMimjC87hPyD"
      },
      "source": [
        "for key,values in tabla.iteritems():\r\n",
        "  print(key,values)"
      ],
      "execution_count": null,
      "outputs": []
    },
    {
      "cell_type": "code",
      "metadata": {
        "colab": {
          "base_uri": "https://localhost:8080/"
        },
        "id": "IewLezOBc74z",
        "outputId": "39d88212-9f95-4384-a84a-1b1ca96cee95"
      },
      "source": [
        "tabla['CUIT_Establecimiento_Host'].count()"
      ],
      "execution_count": null,
      "outputs": [
        {
          "output_type": "execute_result",
          "data": {
            "text/plain": [
              "1000"
            ]
          },
          "metadata": {
            "tags": []
          },
          "execution_count": 87
        }
      ]
    },
    {
      "cell_type": "code",
      "metadata": {
        "id": "HT5JCRKolqx8"
      },
      "source": [
        "tabla['201811']"
      ],
      "execution_count": null,
      "outputs": []
    },
    {
      "cell_type": "code",
      "metadata": {
        "id": "Fwg3Mn09goyh"
      },
      "source": [
        ""
      ],
      "execution_count": null,
      "outputs": []
    }
  ]
}